{
 "cells": [
  {
   "cell_type": "code",
   "execution_count": 1,
   "metadata": {},
   "outputs": [],
   "source": [
    "import numpy as np\n",
    "import matplotlib.pyplot as plt\n",
    "import soundfile as sf\n",
    "import sounddevice as sd\n",
    "import math\n",
    "import time\n",
    "import cmath\n",
    "import sys\n",
    "import os\n",
    "import random\n",
    "import tabletext"
   ]
  },
  {
   "cell_type": "markdown",
   "metadata": {},
   "source": [
    "# Что происходит в этом файле\n",
    "\n",
    "Голосовая идентификация.\n",
    "\n",
    "А именно, к концу этого файла создается функция, которая выдает \"похожесть\" двух записей друг на друга относительно источника.\n",
    "Чтобы записи были хорошо похожи друг на друга, лучше произносить одну и ту же фразу.\n",
    "\n",
    "Процесс:\n",
    "\n",
    "1. Запись голоса (чтение готового файла)\n",
    "2. Выделяем несколько фрагментов, которые будем анализировать (такие, на которых заметны колебания, то есть что-то говорят\n",
    "3. Выполняем спектральный анализ с помощью быстрого преобразования Фурье для выделения амплитуд в голосе (иначе говоря, раскладываем на частоты)\n",
    "4. Выделяем топ пиков (самые высокие локальные максимумы, а для каждой частоты пика запоминаем амплитуду.\n",
    "5. Склеиваем этот топ пиков по всем фрагментам (считаем динамическое программирование с разбиением точек на K групп, где группой считается блок из точек с разницей не более 50 герц друг от друга), оптимизируется функция $$\\displaystyle \\sum_{i=1}^n \\frac{amp_i}{1.05^{|x_i - center(x_i)|}}$$\n",
    "6. Получаем вектор, который отвечает за то, какими частотами (усредненными) характеризуется голос\n",
    "7. Чтобы сравнить два метода, используем расстояние Левенштейна, адаптированное под вещественные последовательности"
   ]
  },
  {
   "cell_type": "code",
   "execution_count": 2,
   "metadata": {},
   "outputs": [],
   "source": [
    "fs = 44100\n",
    "PARAMETERS = {\n",
    "    \"sample_length\": 0.10,\n",
    "    \"record_length\": 2,\n",
    "    \"peaks\": 25,\n",
    "    \"output_dim\": 20,\n",
    "    \"exp\": 1.05,\n",
    "    \"peak_criterion\": 3,\n",
    "    \"delta\": 0.1,\n",
    "    \"penalty\": 100,\n",
    "    'iterations': 15,\n",
    "    'pts_diff': 5,\n",
    "    'group': 50\n",
    "}"
   ]
  },
  {
   "cell_type": "code",
   "execution_count": 3,
   "metadata": {},
   "outputs": [],
   "source": [
    "def read(name):\n",
    "    n_data = sf.read('auth/' + name + '_voice.wav')[0] # if use this, use n_data[0]\n",
    "    sd.play(n_data, fs)\n",
    "    sd.wait()\n",
    "    return list(n_data)\n",
    "\n",
    "def record(name):\n",
    "    global PARAMETERS\n",
    "    time.sleep(0.5)\n",
    "    print('record')\n",
    "    n_data = sd.rec(PARAMETERS[\"record_length\"] * fs, samplerate=fs, channels=1)\n",
    "    sd.wait()\n",
    "    print('play')\n",
    "    sd.play(n_data, fs)\n",
    "    sd.wait()\n",
    "    sf.write('auth/' + name + '_voice.wav', n_data, samplerate=fs);\n",
    "    return list(n_data)"
   ]
  },
  {
   "cell_type": "code",
   "execution_count": 4,
   "metadata": {},
   "outputs": [],
   "source": [
    "def normalize_result(val):\n",
    "    ln = len(val)\n",
    "    ampl = [0] * ln\n",
    "    arg = [0] * ln\n",
    "    for i in range(0, len(val)):\n",
    "        ampl[i] = abs(val[i]) / ln\n",
    "        arg[i] = val[i].imag\n",
    "    return ampl, arg"
   ]
  },
  {
   "cell_type": "code",
   "execution_count": 5,
   "metadata": {},
   "outputs": [],
   "source": [
    "'''\n",
    "slow version\n",
    " result = []\n",
    " for i in range(len(A)):\n",
    "     result.append(complex(0))\n",
    "     for j in range(len(A)):\n",
    "         result[i] += A[j] * complex(math.cos(2 * math.pi * i * j / len(A)), -math.sin(2 * math.pi * i * j / len(A)))\n",
    " return result\n",
    "'''\n",
    "def fft(A):\n",
    "    if len(A) == 1:\n",
    "        return A\n",
    "    assert len(A) % 2 == 0\n",
    "    n =\tlen(A)\n",
    "    a, b = [], []\n",
    "    for i in range(0, n):\n",
    "        if (i % 2 == 0):\n",
    "            a.append(A[i].copy())\n",
    "        else:\n",
    "            b.append(A[i].copy())\n",
    "    a = fft(a)\n",
    "    b = fft(b)\n",
    "    result = [complex(1) for _ in range(n)]\n",
    "    pw = complex(1)\n",
    "    w = complex(math.cos(2 * math.pi / n), math.sin(2 * math.pi / n))\t\n",
    "    for i in range(0, n // 2):\n",
    "        tmp = pw * b[i]\n",
    "        result[i] = a[i] + pw * b[i]\n",
    "        result[i + n // 2] = a[i] - pw * b[i]\n",
    "        pw *= w\n",
    "    return result"
   ]
  },
  {
   "cell_type": "code",
   "execution_count": 6,
   "metadata": {},
   "outputs": [],
   "source": [
    "def hamming(index, n):\n",
    "    return 0.54 - 0.46 * math.cos((2 * math.pi * index) / (n - 1))"
   ]
  },
  {
   "cell_type": "code",
   "execution_count": 7,
   "metadata": {},
   "outputs": [],
   "source": [
    "def find_peaks(arr, n, top_k=PARAMETERS[\"peaks\"]):\n",
    "    global PARAMETERS\n",
    "    assert n > 200\n",
    "    assert top_k <= n * 0.90\n",
    "    result = []\n",
    "    for i in range(int(n * 0.01), int(n * 0.99)):\n",
    "        ok = True\n",
    "        mn = arr[i]\n",
    "        for j in range(int(-n * 0.01), int(n * 0.01)):\n",
    "            idx = int(i + j)\n",
    "            mn = min(arr[i + j], mn)\n",
    "            if arr[idx] > arr[i]:\n",
    "                ok = False\n",
    "                break\n",
    "        if ok and mn * PARAMETERS[\"peak_criterion\"] < arr[i]:\n",
    "            result.append((arr[i] - mn * PARAMETERS[\"peak_criterion\"], i))\n",
    "    return sorted(result)[::-1][:top_k]"
   ]
  },
  {
   "cell_type": "code",
   "execution_count": 8,
   "metadata": {},
   "outputs": [],
   "source": [
    "def merge_similarities(arr, k = PARAMETERS[\"output_dim\"]):\n",
    "    n = len(arr)\n",
    "    result = []\n",
    "    arr.sort(key=lambda x: x[1])\n",
    "    dp = [[-10**10 for j in range(k + 1)] for i in range(n + 1)]\n",
    "    pre = [[(i - 1, i - 1, 0) for j in range(k + 1)] for i in range(n + 1)]\n",
    "    dp[0][0] = 0\n",
    "    for i in range(1, n + 1):\n",
    "        for j in range(k, 0, -1):\n",
    "            dp[i][j] = dp[i - 1][j]\n",
    "            pre[i][j] = pre[i - 1][j]\n",
    "            if dp[i][j - 1] > dp[i][j]:\n",
    "                dp[i][j] = dp[i][j - 1]\n",
    "                pre[i][j] = pre[i][j - 1]\n",
    "            l = i - 1\n",
    "            while l >= 0 and arr[i - 1][1] - arr[l][1] <= PARAMETERS['group']:\n",
    "                l -= 1\n",
    "                assert i >= 1\n",
    "            calc = 0\n",
    "            x_mean = 0\n",
    "            sm = 0\n",
    "            for f in range(l + 1, i):\n",
    "                x_mean += arr[f][0] * arr[f][1]\n",
    "                sm += arr[f][0]\n",
    "            x_mean /= sm\n",
    "            for f in range(l + 1, i):\n",
    "                calc += arr[f][0] / PARAMETERS[\"exp\"] ** (abs(arr[f][1] - x_mean))\n",
    "            if calc + dp[l][j - 1] > dp[i][j]:\n",
    "                dp[i][j] = calc + dp[l][j - 1]\n",
    "                pre[i][j] = (l, x_mean, -1)\n",
    "    fin = [n, k]\n",
    "    res = []\n",
    "    while fin[1] >= 0 and fin[0] >= 0:\n",
    "        pr = pre[fin[0]][fin[1]]\n",
    "        if pr[2] != 0:\n",
    "            res.append(pr[1])\n",
    "        fin[0] = pr[0]\n",
    "        fin[1] += pr[2]\n",
    "    return res"
   ]
  },
  {
   "cell_type": "code",
   "execution_count": 9,
   "metadata": {},
   "outputs": [],
   "source": [
    "def get_vector(name, iterations=PARAMETERS['iterations'], visualize=False):\n",
    "    data = np.array(read(name))\n",
    "    if visualize:\n",
    "        plt.plot(data)\n",
    "        plt.show()\n",
    "    ln = len(data)\n",
    "    new_ln = 1\n",
    "    while new_ln < fs * PARAMETERS[\"sample_length\"]:\n",
    "        new_ln *= 2\n",
    "    peaks = []\n",
    "    for start_idx in range(iterations):\n",
    "        start = random.randint(0, len(data) - new_ln)\n",
    "        np_data = np.array(data)[start:start + new_ln]\n",
    "        while True:\n",
    "            if np_data.max() - np_data.min() > PARAMETERS[\"delta\"]:\n",
    "                break\n",
    "            start = random.randint(0, len(data) - new_ln)\n",
    "            np_data = np.array(data)[start:start + new_ln]\n",
    "           \n",
    "        np_data = fft(np_data)\n",
    "        for i in range(len(np_data)):\n",
    "            np_data[i] *= hamming(i, len(np_data))\n",
    "        ampl, arg = normalize_result(np_data)\n",
    "        \n",
    "        '''\n",
    "        to scale array\n",
    "        '''\n",
    "        def get(arr, idx):\n",
    "            k = PARAMETERS[\"sample_length\"] * 2\n",
    "            if int(idx * k) == idx * k:\n",
    "                return arr[int(idx * k)]\n",
    "            diff = idx * k - int(idx * k)\n",
    "            return arr[int(idx * k)] * diff + arr[int(idx * k) + 1] * (1 - diff)\n",
    "        \n",
    "        res = [get(ampl, i) for i in range(5000)]\n",
    "        if visualize:\n",
    "            plt.plot(res, alpha=0.5)\n",
    "        peaks.extend(find_peaks(res, len(res)))\n",
    "    if visualize:\n",
    "        plt.show()\n",
    "    return merge_similarities(peaks)"
   ]
  },
  {
   "cell_type": "code",
   "execution_count": 10,
   "metadata": {},
   "outputs": [
    {
     "data": {
      "text/plain": [
       "[4798.742888695172,\n",
       " 4519.096785185787,\n",
       " 4102.7157537441235,\n",
       " 3923.9557924147252,\n",
       " 3779.787257758688,\n",
       " 3694.585345336107,\n",
       " 3622.6009345929187,\n",
       " 3518.544394242849,\n",
       " 3413.4184617766823,\n",
       " 3288.7778718992695,\n",
       " 3163.3713054235723,\n",
       " 1908.6404184073297,\n",
       " 1750.0,\n",
       " 778.766861211048,\n",
       " 676.7077930788162,\n",
       " 516.0700118436692,\n",
       " 456.70368452678156,\n",
       " 332.5590015875861,\n",
       " 264.92161159987427,\n",
       " 141.17510773979706]"
      ]
     },
     "execution_count": 10,
     "metadata": {},
     "output_type": "execute_result"
    }
   ],
   "source": [
    "get_vector('misha', 10)"
   ]
  },
  {
   "cell_type": "code",
   "execution_count": 11,
   "metadata": {
    "scrolled": false
   },
   "outputs": [
    {
     "data": {
      "text/plain": [
       "[3401.778794808739,\n",
       " 3257.829460700153,\n",
       " 3150.39442952289,\n",
       " 3022.402203775611,\n",
       " 2373.025790985029,\n",
       " 2311.00258952605,\n",
       " 1438.304555798758,\n",
       " 1227.9972883646012,\n",
       " 1073.2966355671786,\n",
       " 926.2351888566391,\n",
       " 837.6799996346709,\n",
       " 762.9718505370835,\n",
       " 698.2150283079429,\n",
       " 609.5932933696884,\n",
       " 433.17752818268764,\n",
       " 345.41297805482606,\n",
       " 236.1959278488763,\n",
       " 147.91895418182244,\n",
       " 102.1420010548066,\n",
       " 50.0]"
      ]
     },
     "execution_count": 11,
     "metadata": {},
     "output_type": "execute_result"
    }
   ],
   "source": [
    "get_vector('misha2', 10)"
   ]
  },
  {
   "cell_type": "code",
   "execution_count": 12,
   "metadata": {},
   "outputs": [],
   "source": [
    "def score(a, b):\n",
    "    assert(len(a) == len(b))\n",
    "    n = len(a)\n",
    "    dp = [[10 ** 10 for i in range(n + 1)] for j in range(n + 1)]\n",
    "    dp[0][0] = 0\n",
    "    penalty = PARAMETERS['penalty']\n",
    "    for i in range(n + 1):\n",
    "        for j in range(n + 1):\n",
    "            if i == 0 and j == 0:\n",
    "                continue\n",
    "            if i == 0:\n",
    "                dp[i][j] = dp[i][j - 1] + penalty\n",
    "            elif j == 0:\n",
    "                dp[i][j] = dp[i - 1][j] + penalty\n",
    "            else:\n",
    "                dp[i][j]= min(min(dp[i - 1][j], dp[i][j - 1]) + penalty, dp[i - 1][j - 1] + abs(a[i - 1] - b[j - 1]) * PARAMETERS['pts_diff'])\n",
    "    return dp[n][n]"
   ]
  },
  {
   "cell_type": "code",
   "execution_count": 13,
   "metadata": {},
   "outputs": [
    {
     "data": {
      "text/plain": [
       "2987.0594331944244"
      ]
     },
     "execution_count": 13,
     "metadata": {},
     "output_type": "execute_result"
    }
   ],
   "source": [
    "score(get_vector('misha'), get_vector('misha2'))"
   ]
  },
  {
   "cell_type": "code",
   "execution_count": 14,
   "metadata": {},
   "outputs": [
    {
     "data": {
      "text/plain": [
       "1482.8433617752564"
      ]
     },
     "execution_count": 14,
     "metadata": {},
     "output_type": "execute_result"
    }
   ],
   "source": [
    "score(get_vector('misha'), get_vector('misha'))"
   ]
  },
  {
   "cell_type": "code",
   "execution_count": 15,
   "metadata": {},
   "outputs": [
    {
     "data": {
      "text/plain": [
       "1918.6178217363633"
      ]
     },
     "execution_count": 15,
     "metadata": {},
     "output_type": "execute_result"
    }
   ],
   "source": [
    "score(get_vector('misha', 10), get_vector('misha', 10))"
   ]
  },
  {
   "cell_type": "code",
   "execution_count": 16,
   "metadata": {},
   "outputs": [
    {
     "data": {
      "text/plain": [
       "3079.194275300872"
      ]
     },
     "execution_count": 16,
     "metadata": {},
     "output_type": "execute_result"
    }
   ],
   "source": [
    "score(get_vector('misha'), get_vector('kirill2'))"
   ]
  },
  {
   "cell_type": "code",
   "execution_count": 17,
   "metadata": {},
   "outputs": [
    {
     "data": {
      "text/plain": [
       "3446.9319374196416"
      ]
     },
     "execution_count": 17,
     "metadata": {},
     "output_type": "execute_result"
    }
   ],
   "source": [
    "score(get_vector('misha2'), get_vector('kirill2'))"
   ]
  },
  {
   "cell_type": "code",
   "execution_count": 18,
   "metadata": {},
   "outputs": [
    {
     "data": {
      "text/plain": [
       "3479.547418773813"
      ]
     },
     "execution_count": 18,
     "metadata": {},
     "output_type": "execute_result"
    }
   ],
   "source": [
    "score(get_vector('misha'), get_vector('misha_2024'))"
   ]
  },
  {
   "cell_type": "code",
   "execution_count": 19,
   "metadata": {},
   "outputs": [],
   "source": [
    "# record('kirill_bob')"
   ]
  },
  {
   "cell_type": "code",
   "execution_count": 20,
   "metadata": {
    "scrolled": false
   },
   "outputs": [],
   "source": [
    "# record('kirill_pop')"
   ]
  },
  {
   "cell_type": "code",
   "execution_count": 21,
   "metadata": {
    "scrolled": false
   },
   "outputs": [],
   "source": [
    "# record('kirill_privat')"
   ]
  },
  {
   "cell_type": "code",
   "execution_count": 22,
   "metadata": {},
   "outputs": [],
   "source": [
    "# record('kirill_sobaka')"
   ]
  },
  {
   "cell_type": "code",
   "execution_count": 23,
   "metadata": {},
   "outputs": [],
   "source": [
    "# record('misha_bob')"
   ]
  },
  {
   "cell_type": "code",
   "execution_count": 24,
   "metadata": {},
   "outputs": [],
   "source": [
    "# record('misha_pop')"
   ]
  },
  {
   "cell_type": "code",
   "execution_count": 25,
   "metadata": {},
   "outputs": [],
   "source": [
    "# record('misha_load')"
   ]
  },
  {
   "cell_type": "code",
   "execution_count": 26,
   "metadata": {},
   "outputs": [],
   "source": [
    "# record('misha_sobaka')"
   ]
  },
  {
   "cell_type": "code",
   "execution_count": 27,
   "metadata": {},
   "outputs": [],
   "source": [
    "names = ['kirill_pop', 'kirill_bob', 'kirill_privat', 'kirill_sobaka', 'misha_pop', 'misha_bob',  'misha_privat', 'misha_sobaka']\n",
    "result = []\n",
    "for a in names:\n",
    "    result.append([])\n",
    "    for b in names:\n",
    "        result[-1].append(score(get_vector(a), get_vector(b)))"
   ]
  },
  {
   "cell_type": "code",
   "execution_count": 28,
   "metadata": {},
   "outputs": [
    {
     "name": "stdout",
     "output_type": "stream",
     "text": [
      "┌────────────────────┬────────────────────┬────────────────────┬────────────────────┬────────────────────┬────────────────────┬────────────────────┬────────────────────┐\n",
      "│  452.8112509059199 │ 2451.3760327990335 │ 3287.2931587142684 │ 3175.3718521835917 │ 3260.9679336616423 │  3317.098076384909 │ 3715.3941338552277 │ 3420.3332630312143 │\n",
      "├────────────────────┼────────────────────┼────────────────────┼────────────────────┼────────────────────┼────────────────────┼────────────────────┼────────────────────┤\n",
      "│  2687.572614956133 │  677.7601662021655 │ 2979.1495478360807 │ 2816.8886196991302 │  3101.147177436781 │   3351.34182059114 │ 3259.6565768226505 │ 2750.8122501742077 │\n",
      "├────────────────────┼────────────────────┼────────────────────┼────────────────────┼────────────────────┼────────────────────┼────────────────────┼────────────────────┤\n",
      "│ 3295.7310888363427 │  3298.503482775076 │ 1844.0760948166148 │  2895.736258327581 │ 3040.8584386662505 │ 3283.4618166684595 │  2807.699282494625 │  2908.386199622316 │\n",
      "├────────────────────┼────────────────────┼────────────────────┼────────────────────┼────────────────────┼────────────────────┼────────────────────┼────────────────────┤\n",
      "│ 3125.5314667834514 │ 2773.3533857822763 │ 3056.9294350291834 │  1198.223591973907 │  3204.757511026728 │  3081.370867063782 │ 3454.2524254673517 │  2615.103232792472 │\n",
      "├────────────────────┼────────────────────┼────────────────────┼────────────────────┼────────────────────┼────────────────────┼────────────────────┼────────────────────┤\n",
      "│ 3415.8706862753284 │ 3118.0787618248964 │ 2866.0203311620317 │  3302.148180322608 │  1497.783643043279 │  3315.865292972203 │  2505.338261483853 │  3054.444316406184 │\n",
      "├────────────────────┼────────────────────┼────────────────────┼────────────────────┼────────────────────┼────────────────────┼────────────────────┼────────────────────┤\n",
      "│  3502.638413769706 │  2918.059079763204 │  3036.737624861057 │ 3403.3287268311187 │  2780.507884067938 │  2082.504721682365 │ 3151.9327744043076 │  3434.270837550959 │\n",
      "├────────────────────┼────────────────────┼────────────────────┼────────────────────┼────────────────────┼────────────────────┼────────────────────┼────────────────────┤\n",
      "│ 3404.2916301512028 │ 3253.7283116259186 │ 2746.7854407547475 │ 3066.5766639585017 │ 2116.5197118976466 │ 3189.8390129082727 │  747.5893718481252 │ 2942.2175965633505 │\n",
      "├────────────────────┼────────────────────┼────────────────────┼────────────────────┼────────────────────┼────────────────────┼────────────────────┼────────────────────┤\n",
      "│  3403.288974949488 │  2891.773745013957 │  3142.089878093877 │  2997.549495336792 │ 2786.8932922294653 │  3393.232646763926 │  3211.385891555095 │ 1230.6565861627687 │\n",
      "└────────────────────┴────────────────────┴────────────────────┴────────────────────┴────────────────────┴────────────────────┴────────────────────┴────────────────────┘\n"
     ]
    }
   ],
   "source": [
    "print(tabletext.to_text(result))"
   ]
  },
  {
   "cell_type": "code",
   "execution_count": 31,
   "metadata": {},
   "outputs": [],
   "source": [
    "result = np.array(result)"
   ]
  },
  {
   "cell_type": "code",
   "execution_count": 32,
   "metadata": {},
   "outputs": [
    {
     "data": {
      "text/plain": [
       "452.8112509059199"
      ]
     },
     "execution_count": 32,
     "metadata": {},
     "output_type": "execute_result"
    }
   ],
   "source": [
    "result.min()"
   ]
  },
  {
   "cell_type": "code",
   "execution_count": 34,
   "metadata": {},
   "outputs": [
    {
     "data": {
      "text/plain": [
       "3715.3941338552277"
      ]
     },
     "execution_count": 34,
     "metadata": {},
     "output_type": "execute_result"
    }
   ],
   "source": [
    "result.max()"
   ]
  },
  {
   "cell_type": "code",
   "execution_count": 35,
   "metadata": {},
   "outputs": [],
   "source": [
    "result = (result - result.min()) / (result.max() - result.min())"
   ]
  },
  {
   "cell_type": "code",
   "execution_count": 37,
   "metadata": {},
   "outputs": [
    {
     "data": {
      "text/plain": [
       "<matplotlib.image.AxesImage at 0x7fea4d5f5130>"
      ]
     },
     "execution_count": 37,
     "metadata": {},
     "output_type": "execute_result"
    },
    {
     "data": {
      "image/png": "[encoded data removed]",
      "text/plain": [
       "<Figure size 432x288 with 1 Axes>"
      ]
     },
     "metadata": {
      "needs_background": "light"
     },
     "output_type": "display_data"
    }
   ],
   "source": [
    "plt.imshow(result, cmap='gray')"
   ]
  },
  {
   "cell_type": "code",
   "execution_count": 42,
   "metadata": {},
   "outputs": [
    {
     "name": "stdout",
     "output_type": "stream",
     "text": [
      "┌────────────────────┬────────────────────┐\n",
      "│ 0.6277872702559021 │ 0.8300107335529536 │\n",
      "├────────────────────┼────────────────────┤\n",
      "│ 0.8280246717273839 │ 0.6550791783282709 │\n",
      "└────────────────────┴────────────────────┘\n"
     ]
    },
    {
     "data": {
      "text/plain": [
       "<matplotlib.collections.QuadMesh at 0x7fea4c6c04f0>"
      ]
     },
     "execution_count": 42,
     "metadata": {},
     "output_type": "execute_result"
    },
    {
     "data": {
      "image/png": "[encoded data removed]",
      "text/plain": [
       "<Figure size 432x288 with 1 Axes>"
      ]
     },
     "metadata": {
      "needs_background": "light"
     },
     "output_type": "display_data"
    }
   ],
   "source": [
    "res_avg = [[0, 0], [0, 0]]\n",
    "cnt = 0\n",
    "for i in range(len(names) // 2):\n",
    "    for j in range(len(names) // 2):\n",
    "        add = len(names) // 2\n",
    "        cnt += 1\n",
    "        res_avg[0][0] += result[i][j]\n",
    "        res_avg[0][1] += result[i][j + add]\n",
    "        res_avg[1][0] += result[i + add][j]\n",
    "        res_avg[1][1] += result[i + add][j + add]\n",
    "res_avg = np.array(res_avg)\n",
    "res_avg /= cnt\n",
    "print(tabletext.to_text(res_avg))\n",
    "plt.pcolormesh(res_avg, cmap='gray')"
   ]
  },
  {
   "cell_type": "markdown",
   "metadata": {},
   "source": [
    "# Итог\n",
    "\n",
    "Я не сильно подкручивал параметры, но разница все-таки есть, непохожие друг на друга голоса имеют больший score при сравнении. Актуальны только записи `'kirill_pop', 'kirill_bob', 'kirill_privat', 'kirill_sobaka', 'misha_pop', 'misha_bob',  'misha_privat', 'misha_sobaka'`. Предыдущие были сделаны на другой микрофон (и качеством они хуже) и теперь непонятно, как их сравнивать"
   ]
  }
 ],
 "metadata": {
  "kernelspec": {
   "display_name": "Python 3",
   "language": "python",
   "name": "python3"
  },
  "language_info": {
   "codemirror_mode": {
    "name": "ipython",
    "version": 3
   },
   "file_extension": ".py",
   "mimetype": "text/x-python",
   "name": "python",
   "nbconvert_exporter": "python",
   "pygments_lexer": "ipython3",
   "version": "3.8.10"
  }
 },
 "nbformat": 4,
 "nbformat_minor": 4
}
